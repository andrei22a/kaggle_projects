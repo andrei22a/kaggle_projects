{
 "cells": [
  {
   "cell_type": "code",
   "execution_count": 1,
   "id": "0fc4faf0",
   "metadata": {},
   "outputs": [],
   "source": [
    "import os\n",
    "os.environ['TF_CPP_MIN_LOG_LEVEL'] = '2'\n",
    "\n",
    "import warnings\n",
    "warnings.filterwarnings('ignore')\n",
    "\n",
    "import numpy as np\n",
    "import pandas as pd\n",
    "import matplotlib.pyplot as plt\n",
    "import seaborn as sns\n",
    "from sklearn.model_selection import train_test_split\n",
    "import tensorflow as tf\n",
    "tf.get_logger().setLevel('ERROR')\n",
    "from tensorflow import keras\n",
    "from keras import models, layers, optimizers, callbacks, losses, metrics\n",
    "import keras_tuner as kt"
   ]
  },
  {
   "cell_type": "code",
   "execution_count": 2,
   "id": "ec671074",
   "metadata": {},
   "outputs": [],
   "source": [
    "train_data = pd.read_csv(\"./datasets/train.csv\")\n",
    "test_data = pd.read_csv(\"./datasets/test.csv\")"
   ]
  },
  {
   "cell_type": "code",
   "execution_count": 3,
   "id": "2e009188",
   "metadata": {},
   "outputs": [
    {
     "name": "stdout",
     "output_type": "stream",
     "text": [
      "<class 'pandas.core.frame.DataFrame'>\n",
      "RangeIndex: 42000 entries, 0 to 41999\n",
      "Columns: 785 entries, label to pixel783\n",
      "dtypes: int64(785)\n",
      "memory usage: 251.5 MB\n"
     ]
    }
   ],
   "source": [
    "train_data.info()"
   ]
  },
  {
   "cell_type": "code",
   "execution_count": 4,
   "id": "6e425839",
   "metadata": {},
   "outputs": [
    {
     "name": "stdout",
     "output_type": "stream",
     "text": [
      "<class 'pandas.core.frame.DataFrame'>\n",
      "RangeIndex: 28000 entries, 0 to 27999\n",
      "Columns: 784 entries, pixel0 to pixel783\n",
      "dtypes: int64(784)\n",
      "memory usage: 167.5 MB\n"
     ]
    }
   ],
   "source": [
    "test_data.info()"
   ]
  },
  {
   "cell_type": "code",
   "execution_count": 5,
   "id": "a70271c7",
   "metadata": {},
   "outputs": [],
   "source": [
    "X_train = train_data.drop(columns = \"label\").values\n",
    "y_train = train_data[\"label\"].values\n",
    "\n",
    "X_test = test_data.values"
   ]
  },
  {
   "cell_type": "code",
   "execution_count": 6,
   "id": "b2270ce7",
   "metadata": {},
   "outputs": [],
   "source": [
    "mean, std = np.mean(X_train), np.std(X_train)\n",
    "X_train = (X_train - mean) / std\n",
    "X_test = (X_test - mean) / std"
   ]
  },
  {
   "cell_type": "code",
   "execution_count": 7,
   "id": "cf91852c",
   "metadata": {},
   "outputs": [
    {
     "data": {
      "text/plain": [
       "((42000, 784), (28000, 784))"
      ]
     },
     "execution_count": 7,
     "metadata": {},
     "output_type": "execute_result"
    }
   ],
   "source": [
    "X_train.shape, X_test.shape"
   ]
  },
  {
   "cell_type": "code",
   "execution_count": 8,
   "id": "d32a0c3e",
   "metadata": {},
   "outputs": [
    {
     "data": {
      "text/plain": [
       "((42000, 28, 28), (28000, 28, 28))"
      ]
     },
     "execution_count": 8,
     "metadata": {},
     "output_type": "execute_result"
    }
   ],
   "source": [
    "X_train = X_train.reshape(-1, 28, 28)\n",
    "X_test = X_test.reshape(-1, 28, 28)\n",
    "\n",
    "X_train.shape, X_test.shape"
   ]
  },
  {
   "cell_type": "code",
   "execution_count": 9,
   "id": "a84e8661",
   "metadata": {},
   "outputs": [
    {
     "data": {
      "text/plain": [
       "(TensorShape([42000, 32, 32, 1]), TensorShape([28000, 32, 32, 1]))"
      ]
     },
     "execution_count": 9,
     "metadata": {},
     "output_type": "execute_result"
    }
   ],
   "source": [
    "X_train = X_train[..., tf.newaxis]\n",
    "X_test = X_test[..., tf.newaxis]\n",
    "\n",
    "X_train = tf.image.resize(X_train, [32, 32])\n",
    "X_test = tf.image.resize(X_test, [32, 32])\n",
    "\n",
    "X_train.shape, X_test.shape"
   ]
  },
  {
   "cell_type": "code",
   "execution_count": 34,
   "id": "f697cac9",
   "metadata": {},
   "outputs": [],
   "source": [
    "AUTOTUNE = tf.data.AUTOTUNE\n",
    "\n",
    "def preprocess(image, label):\n",
    "    image = tf.image.convert_image_dtype(image, tf.float32)\n",
    "    image = tf.image.random_flip_left_right(image)\n",
    "    image = tf.image.random_brightness(image, max_delta=0.1)\n",
    "    return image, label\n",
    "\n",
    "ds = tf.data.Dataset.from_tensor_slices((X_train, y_train))\n",
    "ds = ds.shuffle(buffer_size=10000, seed=42)\n",
    "\n",
    "val_size = int(0.2 * len(X_train))\n",
    "val_ds = ds.take(val_size)\n",
    "train_ds = ds.skip(val_size)\n",
    "\n",
    "train_ds = train_ds.map(preprocess, num_parallel_calls=AUTOTUNE).batch(32).prefetch(AUTOTUNE)\n",
    "val_ds = val_ds.map(preprocess, num_parallel_calls=AUTOTUNE).batch(32).prefetch(AUTOTUNE)"
   ]
  },
  {
   "cell_type": "code",
   "execution_count": 39,
   "id": "53cafccc",
   "metadata": {},
   "outputs": [],
   "source": [
    "model = models.Sequential([\n",
    "    layers.Conv2D(filters = 64, kernel_size = (5, 5), activation = \"relu\", name = \"block1_conv1\"),\n",
    "    layers.Conv2D(filters = 64, kernel_size = (5, 5), activation = \"relu\", name = \"block1_conv2\"),\n",
    "    layers.BatchNormalization(name = \"block1_normalization\"),\n",
    "    layers.MaxPool2D(pool_size = 2, name = \"block1_maxpooling\"),\n",
    "    layers.Dropout(rate = 0.2, name = \"block1_dropout\"),\n",
    "    layers.Conv2D(filters = 128, kernel_size = (3, 3), activation = \"relu\", name = \"block2_conv1\"),\n",
    "    layers.Conv2D(filters = 128, kernel_size = (3, 3), activation = \"relu\", name = \"block2_conv2\"),\n",
    "    layers.BatchNormalization(name = \"block2_normalization\"),\n",
    "    layers.MaxPool2D(pool_size = 2, name = \"block2_maxpooling\"),\n",
    "    layers.Dropout(rate = 0.2, name = \"block2_dropout\"),\n",
    "    layers.Flatten(name = \"Flatten\"),\n",
    "    layers.Dense(units = 256, activation = \"relu\", name = \"fc1\"),\n",
    "    layers.Dense(units = 10, activation = \"softmax\", name = \"prediction\")\n",
    "])\n",
    "\n",
    "model.compile(\n",
    "    optimizer = optimizers.Adam(learning_rate = 0.001, epsilon = 1e-08, decay = 1e-5),\n",
    "    loss = losses.SparseCategoricalCrossentropy(),\n",
    "    metrics = [\n",
    "        metrics.SparseCategoricalAccuracy(name = \"accuracy\")\n",
    "    ]\n",
    ")"
   ]
  },
  {
   "cell_type": "code",
   "execution_count": 40,
   "id": "17eb80e8",
   "metadata": {},
   "outputs": [
    {
     "name": "stdout",
     "output_type": "stream",
     "text": [
      "Epoch 1/30\n"
     ]
    },
    {
     "name": "stdout",
     "output_type": "stream",
     "text": [
      "1050/1050 [==============================] - 13s 12ms/step - loss: 0.2451 - accuracy: 0.9260 - val_loss: 0.1148 - val_accuracy: 0.9652 - lr: 0.0010\n",
      "Epoch 2/30\n",
      "1050/1050 [==============================] - 11s 11ms/step - loss: 0.1026 - accuracy: 0.9680 - val_loss: 0.0760 - val_accuracy: 0.9769 - lr: 0.0010\n",
      "Epoch 3/30\n",
      "1050/1050 [==============================] - 13s 12ms/step - loss: 0.0807 - accuracy: 0.9755 - val_loss: 0.0810 - val_accuracy: 0.9748 - lr: 0.0010\n",
      "Epoch 4/30\n",
      "1050/1050 [==============================] - 11s 11ms/step - loss: 0.0666 - accuracy: 0.9788 - val_loss: 0.0781 - val_accuracy: 0.9776 - lr: 0.0010\n",
      "Epoch 5/30\n",
      "1050/1050 [==============================] - 12s 11ms/step - loss: 0.0623 - accuracy: 0.9810 - val_loss: 0.0838 - val_accuracy: 0.9752 - lr: 0.0010\n",
      "Epoch 6/30\n",
      "1050/1050 [==============================] - 11s 11ms/step - loss: 0.0383 - accuracy: 0.9882 - val_loss: 0.0265 - val_accuracy: 0.9915 - lr: 5.0000e-04\n",
      "Epoch 7/30\n",
      "1050/1050 [==============================] - 11s 11ms/step - loss: 0.0316 - accuracy: 0.9905 - val_loss: 0.0292 - val_accuracy: 0.9912 - lr: 5.0000e-04\n",
      "Epoch 8/30\n",
      "1050/1050 [==============================] - 11s 11ms/step - loss: 0.0313 - accuracy: 0.9901 - val_loss: 0.0303 - val_accuracy: 0.9906 - lr: 5.0000e-04\n",
      "Epoch 9/30\n",
      "1050/1050 [==============================] - 11s 10ms/step - loss: 0.0290 - accuracy: 0.9906 - val_loss: 0.0259 - val_accuracy: 0.9912 - lr: 5.0000e-04\n",
      "Epoch 10/30\n",
      "1050/1050 [==============================] - 11s 10ms/step - loss: 0.0238 - accuracy: 0.9925 - val_loss: 0.0319 - val_accuracy: 0.9904 - lr: 5.0000e-04\n",
      "Epoch 11/30\n",
      "1050/1050 [==============================] - 11s 10ms/step - loss: 0.0276 - accuracy: 0.9910 - val_loss: 0.0271 - val_accuracy: 0.9921 - lr: 5.0000e-04\n",
      "Epoch 12/30\n",
      "1050/1050 [==============================] - 12s 12ms/step - loss: 0.0242 - accuracy: 0.9922 - val_loss: 0.0214 - val_accuracy: 0.9936 - lr: 5.0000e-04\n",
      "Epoch 13/30\n",
      "1050/1050 [==============================] - 11s 11ms/step - loss: 0.0215 - accuracy: 0.9932 - val_loss: 0.0196 - val_accuracy: 0.9939 - lr: 5.0000e-04\n",
      "Epoch 14/30\n",
      "1050/1050 [==============================] - 11s 11ms/step - loss: 0.0226 - accuracy: 0.9934 - val_loss: 0.0232 - val_accuracy: 0.9920 - lr: 5.0000e-04\n",
      "Epoch 15/30\n",
      "1050/1050 [==============================] - 11s 10ms/step - loss: 0.0194 - accuracy: 0.9940 - val_loss: 0.0177 - val_accuracy: 0.9945 - lr: 5.0000e-04\n",
      "Epoch 16/30\n",
      "1050/1050 [==============================] - 11s 10ms/step - loss: 0.0191 - accuracy: 0.9941 - val_loss: 0.0213 - val_accuracy: 0.9930 - lr: 5.0000e-04\n",
      "Epoch 17/30\n",
      "1050/1050 [==============================] - 11s 10ms/step - loss: 0.0177 - accuracy: 0.9943 - val_loss: 0.0174 - val_accuracy: 0.9946 - lr: 5.0000e-04\n",
      "Epoch 18/30\n",
      "1050/1050 [==============================] - 11s 11ms/step - loss: 0.0168 - accuracy: 0.9948 - val_loss: 0.0190 - val_accuracy: 0.9954 - lr: 5.0000e-04\n",
      "Epoch 19/30\n",
      "1050/1050 [==============================] - 11s 10ms/step - loss: 0.0149 - accuracy: 0.9953 - val_loss: 0.0187 - val_accuracy: 0.9945 - lr: 5.0000e-04\n",
      "Epoch 20/30\n",
      "1050/1050 [==============================] - 11s 11ms/step - loss: 0.0147 - accuracy: 0.9954 - val_loss: 0.0121 - val_accuracy: 0.9949 - lr: 5.0000e-04\n",
      "Epoch 21/30\n",
      "1050/1050 [==============================] - 11s 11ms/step - loss: 0.0135 - accuracy: 0.9959 - val_loss: 0.0153 - val_accuracy: 0.9945 - lr: 5.0000e-04\n",
      "Epoch 22/30\n",
      "1050/1050 [==============================] - 11s 10ms/step - loss: 0.0126 - accuracy: 0.9958 - val_loss: 0.0176 - val_accuracy: 0.9960 - lr: 5.0000e-04\n",
      "Epoch 23/30\n",
      "1050/1050 [==============================] - 11s 10ms/step - loss: 0.0124 - accuracy: 0.9958 - val_loss: 0.0089 - val_accuracy: 0.9970 - lr: 5.0000e-04\n",
      "Epoch 24/30\n",
      "1050/1050 [==============================] - 12s 11ms/step - loss: 0.0137 - accuracy: 0.9954 - val_loss: 0.0144 - val_accuracy: 0.9965 - lr: 5.0000e-04\n",
      "Epoch 25/30\n",
      "1050/1050 [==============================] - 12s 11ms/step - loss: 0.0106 - accuracy: 0.9967 - val_loss: 0.0124 - val_accuracy: 0.9960 - lr: 5.0000e-04\n",
      "Epoch 26/30\n",
      "1050/1050 [==============================] - 12s 12ms/step - loss: 0.0110 - accuracy: 0.9967 - val_loss: 0.0123 - val_accuracy: 0.9968 - lr: 5.0000e-04\n",
      "Epoch 27/30\n",
      "1050/1050 [==============================] - 11s 11ms/step - loss: 0.0058 - accuracy: 0.9980 - val_loss: 0.0058 - val_accuracy: 0.9982 - lr: 2.5000e-04\n",
      "Epoch 28/30\n",
      "1050/1050 [==============================] - 11s 10ms/step - loss: 0.0059 - accuracy: 0.9977 - val_loss: 0.0081 - val_accuracy: 0.9985 - lr: 2.5000e-04\n",
      "Epoch 29/30\n",
      "1050/1050 [==============================] - 11s 10ms/step - loss: 0.0065 - accuracy: 0.9979 - val_loss: 0.0043 - val_accuracy: 0.9986 - lr: 2.5000e-04\n",
      "Epoch 30/30\n",
      "1050/1050 [==============================] - 11s 11ms/step - loss: 0.0037 - accuracy: 0.9987 - val_loss: 0.0037 - val_accuracy: 0.9983 - lr: 2.5000e-04\n"
     ]
    }
   ],
   "source": [
    "history = model.fit(\n",
    "    train_ds,\n",
    "    validation_data = val_ds,\n",
    "    epochs = 30,\n",
    "    callbacks = [\n",
    "        callbacks.EarlyStopping(monitor = \"val_loss\", patience = 5, restore_best_weights = True),\n",
    "        callbacks.ReduceLROnPlateau(monitor = \"val_loss\", factor = 0.5, patience = 3, min_lr = 0.00001)\n",
    "    ]\n",
    ")"
   ]
  },
  {
   "cell_type": "code",
   "execution_count": 41,
   "id": "c96befc5",
   "metadata": {},
   "outputs": [
    {
     "data": {
      "text/plain": [
       "loss            0.003705\n",
       "accuracy        0.998750\n",
       "val_loss        0.003703\n",
       "val_accuracy    0.998333\n",
       "lr              0.000250\n",
       "Name: 29, dtype: float64"
      ]
     },
     "execution_count": 41,
     "metadata": {},
     "output_type": "execute_result"
    }
   ],
   "source": [
    "best_result = pd.DataFrame(history.history).iloc[np.argmin(history.history[\"val_loss\"])]\n",
    "best_result"
   ]
  },
  {
   "cell_type": "code",
   "execution_count": 30,
   "id": "0aeb5b09",
   "metadata": {},
   "outputs": [
    {
     "name": "stdout",
     "output_type": "stream",
     "text": [
      "875/875 [==============================] - 3s 2ms/step\n"
     ]
    }
   ],
   "source": [
    "prediction = model.predict(X_test)\n",
    "prediction = np.argmax(prediction, axis=1)"
   ]
  },
  {
   "cell_type": "code",
   "execution_count": 31,
   "id": "6112e234",
   "metadata": {},
   "outputs": [
    {
     "data": {
      "text/plain": [
       "array([2, 0, 9, ..., 3, 9, 2], dtype=int64)"
      ]
     },
     "execution_count": 31,
     "metadata": {},
     "output_type": "execute_result"
    }
   ],
   "source": [
    "prediction"
   ]
  },
  {
   "cell_type": "code",
   "execution_count": 32,
   "id": "d3494f87",
   "metadata": {},
   "outputs": [
    {
     "data": {
      "text/html": [
       "<div>\n",
       "<style scoped>\n",
       "    .dataframe tbody tr th:only-of-type {\n",
       "        vertical-align: middle;\n",
       "    }\n",
       "\n",
       "    .dataframe tbody tr th {\n",
       "        vertical-align: top;\n",
       "    }\n",
       "\n",
       "    .dataframe thead th {\n",
       "        text-align: right;\n",
       "    }\n",
       "</style>\n",
       "<table border=\"1\" class=\"dataframe\">\n",
       "  <thead>\n",
       "    <tr style=\"text-align: right;\">\n",
       "      <th></th>\n",
       "      <th>ImageId</th>\n",
       "      <th>Label</th>\n",
       "    </tr>\n",
       "  </thead>\n",
       "  <tbody>\n",
       "    <tr>\n",
       "      <th>0</th>\n",
       "      <td>1</td>\n",
       "      <td>2</td>\n",
       "    </tr>\n",
       "    <tr>\n",
       "      <th>1</th>\n",
       "      <td>2</td>\n",
       "      <td>0</td>\n",
       "    </tr>\n",
       "    <tr>\n",
       "      <th>2</th>\n",
       "      <td>3</td>\n",
       "      <td>9</td>\n",
       "    </tr>\n",
       "    <tr>\n",
       "      <th>3</th>\n",
       "      <td>4</td>\n",
       "      <td>9</td>\n",
       "    </tr>\n",
       "    <tr>\n",
       "      <th>4</th>\n",
       "      <td>5</td>\n",
       "      <td>3</td>\n",
       "    </tr>\n",
       "    <tr>\n",
       "      <th>...</th>\n",
       "      <td>...</td>\n",
       "      <td>...</td>\n",
       "    </tr>\n",
       "    <tr>\n",
       "      <th>27995</th>\n",
       "      <td>27996</td>\n",
       "      <td>9</td>\n",
       "    </tr>\n",
       "    <tr>\n",
       "      <th>27996</th>\n",
       "      <td>27997</td>\n",
       "      <td>7</td>\n",
       "    </tr>\n",
       "    <tr>\n",
       "      <th>27997</th>\n",
       "      <td>27998</td>\n",
       "      <td>3</td>\n",
       "    </tr>\n",
       "    <tr>\n",
       "      <th>27998</th>\n",
       "      <td>27999</td>\n",
       "      <td>9</td>\n",
       "    </tr>\n",
       "    <tr>\n",
       "      <th>27999</th>\n",
       "      <td>28000</td>\n",
       "      <td>2</td>\n",
       "    </tr>\n",
       "  </tbody>\n",
       "</table>\n",
       "<p>28000 rows × 2 columns</p>\n",
       "</div>"
      ],
      "text/plain": [
       "       ImageId  Label\n",
       "0            1      2\n",
       "1            2      0\n",
       "2            3      9\n",
       "3            4      9\n",
       "4            5      3\n",
       "...        ...    ...\n",
       "27995    27996      9\n",
       "27996    27997      7\n",
       "27997    27998      3\n",
       "27998    27999      9\n",
       "27999    28000      2\n",
       "\n",
       "[28000 rows x 2 columns]"
      ]
     },
     "execution_count": 32,
     "metadata": {},
     "output_type": "execute_result"
    }
   ],
   "source": [
    "pred_df = pd.DataFrame([], columns = [\"ImageId\", \"Label\"])\n",
    "pred_df[\"ImageId\"] = test_data.index + 1\n",
    "pred_df[\"Label\"] = prediction\n",
    "pred_df"
   ]
  },
  {
   "cell_type": "code",
   "execution_count": 33,
   "id": "500b7433",
   "metadata": {},
   "outputs": [],
   "source": [
    "pred_df.to_csv(\"./results/augmentation_two_conv_blocks.csv\", index = False)"
   ]
  },
  {
   "cell_type": "code",
   "execution_count": null,
   "id": "b0574a15",
   "metadata": {},
   "outputs": [],
   "source": []
  }
 ],
 "metadata": {
  "kernelspec": {
   "display_name": "tf210-gpu",
   "language": "python",
   "name": "python3"
  },
  "language_info": {
   "codemirror_mode": {
    "name": "ipython",
    "version": 3
   },
   "file_extension": ".py",
   "mimetype": "text/x-python",
   "name": "python",
   "nbconvert_exporter": "python",
   "pygments_lexer": "ipython3",
   "version": "3.8.20"
  }
 },
 "nbformat": 4,
 "nbformat_minor": 5
}
