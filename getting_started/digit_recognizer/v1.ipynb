{
 "cells": [
  {
   "cell_type": "code",
   "execution_count": 12,
   "id": "0fc4faf0",
   "metadata": {},
   "outputs": [],
   "source": [
    "import numpy as np\n",
    "import pandas as pd\n",
    "import matplotlib.pyplot as plt\n",
    "import seaborn as sns\n",
    "from sklearn.model_selection import train_test_split\n",
    "from sklearn.preprocessing import StandardScaler\n",
    "import tensorflow as tf\n",
    "from tensorflow import keras\n",
    "from keras import models, layers, optimizers, callbacks, losses, metrics\n",
    "import keras_tuner as kt"
   ]
  },
  {
   "cell_type": "code",
   "execution_count": 13,
   "id": "ec671074",
   "metadata": {},
   "outputs": [],
   "source": [
    "train_data = pd.read_csv(\"./datasets/train.csv\")\n",
    "test_data = pd.read_csv(\"./datasets/test.csv\")"
   ]
  },
  {
   "cell_type": "code",
   "execution_count": 14,
   "id": "2e009188",
   "metadata": {},
   "outputs": [
    {
     "name": "stdout",
     "output_type": "stream",
     "text": [
      "<class 'pandas.core.frame.DataFrame'>\n",
      "RangeIndex: 42000 entries, 0 to 41999\n",
      "Columns: 785 entries, label to pixel783\n",
      "dtypes: int64(785)\n",
      "memory usage: 251.5 MB\n"
     ]
    }
   ],
   "source": [
    "train_data.info()"
   ]
  },
  {
   "cell_type": "code",
   "execution_count": 15,
   "id": "6e425839",
   "metadata": {},
   "outputs": [
    {
     "name": "stdout",
     "output_type": "stream",
     "text": [
      "<class 'pandas.core.frame.DataFrame'>\n",
      "RangeIndex: 28000 entries, 0 to 27999\n",
      "Columns: 784 entries, pixel0 to pixel783\n",
      "dtypes: int64(784)\n",
      "memory usage: 167.5 MB\n"
     ]
    }
   ],
   "source": [
    "test_data.info()"
   ]
  },
  {
   "cell_type": "code",
   "execution_count": 33,
   "id": "a70271c7",
   "metadata": {},
   "outputs": [],
   "source": [
    "X_train = train_data.drop(columns = \"label\").values\n",
    "y_train = train_data[\"label\"].values\n",
    "\n",
    "X_test = test_data.values"
   ]
  },
  {
   "cell_type": "code",
   "execution_count": 34,
   "id": "b2270ce7",
   "metadata": {},
   "outputs": [],
   "source": [
    "mean, std = np.mean(X_train), np.std(X_train)\n",
    "X_train = (X_train - mean) / std\n",
    "X_test = (X_test - mean) / std"
   ]
  },
  {
   "cell_type": "code",
   "execution_count": 35,
   "id": "cf91852c",
   "metadata": {},
   "outputs": [
    {
     "data": {
      "text/plain": [
       "(28000, 784)"
      ]
     },
     "execution_count": 35,
     "metadata": {},
     "output_type": "execute_result"
    }
   ],
   "source": [
    "X_test.shape"
   ]
  },
  {
   "cell_type": "code",
   "execution_count": 36,
   "id": "d32a0c3e",
   "metadata": {},
   "outputs": [],
   "source": [
    "X_train = X_train.reshape(-1, 28, 28)\n",
    "X_test = X_test.reshape(-1, 28, 28)\n",
    "\n",
    "X_train = X_train[..., tf.newaxis]\n",
    "X_test = X_test[..., tf.newaxis]"
   ]
  },
  {
   "cell_type": "code",
   "execution_count": 38,
   "id": "53cafccc",
   "metadata": {},
   "outputs": [],
   "source": [
    "model = models.Sequential([\n",
    "    layers.Conv2D(filters = 64, kernel_size = (5, 5), activation = \"relu\", name = \"block1_conv1\"),\n",
    "    layers.Conv2D(filters = 64, kernel_size = (5, 5), activation = \"relu\", name = \"block1_conv2\"),\n",
    "    layers.MaxPool2D(pool_size = 2, name = \"block1_maxpooling\"),\n",
    "    layers.Dropout(rate = 0.2, name = \"block1_dropout\"),\n",
    "    layers.Conv2D(filters = 128, kernel_size = (3, 3), activation = \"relu\", name = \"block2_conv1\"),\n",
    "    layers.Conv2D(filters = 128, kernel_size = (3, 3), activation = \"relu\", name = \"block2_conv2\"),\n",
    "    layers.MaxPool2D(pool_size = 2, name = \"block2_maxpooling\"),\n",
    "    layers.Dropout(rate = 0.2, name = \"block2_dropout\"),\n",
    "    layers.Flatten(name = \"Flatten\"),\n",
    "    layers.Dense(units = 256, activation = \"relu\", name = \"fc1\"),\n",
    "    layers.Dropout(rate = 0.2, name = \"fc_dropout\"),\n",
    "    layers.Dense(units = 10, activation = \"softmax\", name = \"prediction\")\n",
    "])\n",
    "\n",
    "model.compile(\n",
    "    optimizer = optimizers.Adam(learning_rate = 0.001, epsilon = 1e-08, decay = 1e-5),\n",
    "    loss = losses.SparseCategoricalCrossentropy(),\n",
    "    metrics = [\n",
    "        metrics.SparseCategoricalAccuracy(name = \"accuracy\")\n",
    "    ]\n",
    ")"
   ]
  },
  {
   "cell_type": "code",
   "execution_count": 41,
   "id": "17eb80e8",
   "metadata": {},
   "outputs": [
    {
     "name": "stdout",
     "output_type": "stream",
     "text": [
      "Epoch 1/30\n",
      "525/525 [==============================] - 7s 11ms/step - loss: 0.1970 - accuracy: 0.9386 - val_loss: 0.0681 - val_accuracy: 0.9777 - lr: 0.0010\n",
      "Epoch 2/30\n",
      "525/525 [==============================] - 5s 10ms/step - loss: 0.0626 - accuracy: 0.9807 - val_loss: 0.0409 - val_accuracy: 0.9887 - lr: 0.0010\n",
      "Epoch 3/30\n",
      "525/525 [==============================] - 5s 10ms/step - loss: 0.0465 - accuracy: 0.9853 - val_loss: 0.0338 - val_accuracy: 0.9900 - lr: 0.0010\n",
      "Epoch 4/30\n",
      "525/525 [==============================] - 5s 10ms/step - loss: 0.0365 - accuracy: 0.9883 - val_loss: 0.0347 - val_accuracy: 0.9911 - lr: 0.0010\n",
      "Epoch 5/30\n",
      "525/525 [==============================] - 5s 10ms/step - loss: 0.0312 - accuracy: 0.9899 - val_loss: 0.0492 - val_accuracy: 0.9850 - lr: 0.0010\n",
      "Epoch 6/30\n",
      "525/525 [==============================] - 6s 11ms/step - loss: 0.0280 - accuracy: 0.9914 - val_loss: 0.0282 - val_accuracy: 0.9920 - lr: 0.0010\n",
      "Epoch 7/30\n",
      "525/525 [==============================] - 6s 11ms/step - loss: 0.0232 - accuracy: 0.9923 - val_loss: 0.0332 - val_accuracy: 0.9915 - lr: 0.0010\n",
      "Epoch 8/30\n",
      "525/525 [==============================] - 6s 11ms/step - loss: 0.0210 - accuracy: 0.9929 - val_loss: 0.0440 - val_accuracy: 0.9921 - lr: 0.0010\n",
      "Epoch 9/30\n",
      "525/525 [==============================] - 6s 11ms/step - loss: 0.0212 - accuracy: 0.9935 - val_loss: 0.0343 - val_accuracy: 0.9921 - lr: 0.0010\n",
      "Epoch 10/30\n",
      "525/525 [==============================] - 5s 10ms/step - loss: 0.0085 - accuracy: 0.9971 - val_loss: 0.0271 - val_accuracy: 0.9931 - lr: 5.0000e-04\n",
      "Epoch 11/30\n",
      "525/525 [==============================] - 5s 10ms/step - loss: 0.0062 - accuracy: 0.9979 - val_loss: 0.0335 - val_accuracy: 0.9932 - lr: 5.0000e-04\n",
      "Epoch 12/30\n",
      "525/525 [==============================] - 5s 10ms/step - loss: 0.0065 - accuracy: 0.9979 - val_loss: 0.0312 - val_accuracy: 0.9933 - lr: 5.0000e-04\n",
      "Epoch 13/30\n",
      "525/525 [==============================] - 5s 10ms/step - loss: 0.0070 - accuracy: 0.9976 - val_loss: 0.0364 - val_accuracy: 0.9929 - lr: 5.0000e-04\n",
      "Epoch 14/30\n",
      "525/525 [==============================] - 5s 10ms/step - loss: 0.0032 - accuracy: 0.9990 - val_loss: 0.0344 - val_accuracy: 0.9943 - lr: 2.5000e-04\n",
      "Epoch 15/30\n",
      "525/525 [==============================] - 5s 10ms/step - loss: 0.0024 - accuracy: 0.9992 - val_loss: 0.0334 - val_accuracy: 0.9946 - lr: 2.5000e-04\n"
     ]
    }
   ],
   "source": [
    "history = model.fit(\n",
    "    x = X_train,\n",
    "    y = y_train,\n",
    "    validation_split = 0.2,\n",
    "    epochs = 30,\n",
    "    batch_size = 64,\n",
    "    callbacks = [\n",
    "        callbacks.EarlyStopping(monitor = \"val_loss\", patience = 5, restore_best_weights = True),\n",
    "        callbacks.ReduceLROnPlateau(monitor = \"val_loss\", factor = 0.5, patience = 3, min_lr = 0.00001)\n",
    "    ]\n",
    ")"
   ]
  },
  {
   "cell_type": "code",
   "execution_count": 48,
   "id": "0aeb5b09",
   "metadata": {},
   "outputs": [
    {
     "name": "stdout",
     "output_type": "stream",
     "text": [
      "875/875 [==============================] - 2s 3ms/step\n"
     ]
    }
   ],
   "source": [
    "prediction = model.predict(X_test)\n",
    "prediction = np.argmax(prediction, axis=1)"
   ]
  },
  {
   "cell_type": "code",
   "execution_count": 49,
   "id": "6112e234",
   "metadata": {},
   "outputs": [
    {
     "data": {
      "text/plain": [
       "array([2, 0, 9, ..., 3, 9, 2], dtype=int64)"
      ]
     },
     "execution_count": 49,
     "metadata": {},
     "output_type": "execute_result"
    }
   ],
   "source": [
    "prediction"
   ]
  },
  {
   "cell_type": "code",
   "execution_count": 54,
   "id": "d3494f87",
   "metadata": {},
   "outputs": [
    {
     "data": {
      "text/html": [
       "<div>\n",
       "<style scoped>\n",
       "    .dataframe tbody tr th:only-of-type {\n",
       "        vertical-align: middle;\n",
       "    }\n",
       "\n",
       "    .dataframe tbody tr th {\n",
       "        vertical-align: top;\n",
       "    }\n",
       "\n",
       "    .dataframe thead th {\n",
       "        text-align: right;\n",
       "    }\n",
       "</style>\n",
       "<table border=\"1\" class=\"dataframe\">\n",
       "  <thead>\n",
       "    <tr style=\"text-align: right;\">\n",
       "      <th></th>\n",
       "      <th>ImageId</th>\n",
       "      <th>Label</th>\n",
       "    </tr>\n",
       "  </thead>\n",
       "  <tbody>\n",
       "    <tr>\n",
       "      <th>0</th>\n",
       "      <td>1</td>\n",
       "      <td>2</td>\n",
       "    </tr>\n",
       "    <tr>\n",
       "      <th>1</th>\n",
       "      <td>2</td>\n",
       "      <td>0</td>\n",
       "    </tr>\n",
       "    <tr>\n",
       "      <th>2</th>\n",
       "      <td>3</td>\n",
       "      <td>9</td>\n",
       "    </tr>\n",
       "    <tr>\n",
       "      <th>3</th>\n",
       "      <td>4</td>\n",
       "      <td>9</td>\n",
       "    </tr>\n",
       "    <tr>\n",
       "      <th>4</th>\n",
       "      <td>5</td>\n",
       "      <td>3</td>\n",
       "    </tr>\n",
       "    <tr>\n",
       "      <th>...</th>\n",
       "      <td>...</td>\n",
       "      <td>...</td>\n",
       "    </tr>\n",
       "    <tr>\n",
       "      <th>27995</th>\n",
       "      <td>27996</td>\n",
       "      <td>9</td>\n",
       "    </tr>\n",
       "    <tr>\n",
       "      <th>27996</th>\n",
       "      <td>27997</td>\n",
       "      <td>7</td>\n",
       "    </tr>\n",
       "    <tr>\n",
       "      <th>27997</th>\n",
       "      <td>27998</td>\n",
       "      <td>3</td>\n",
       "    </tr>\n",
       "    <tr>\n",
       "      <th>27998</th>\n",
       "      <td>27999</td>\n",
       "      <td>9</td>\n",
       "    </tr>\n",
       "    <tr>\n",
       "      <th>27999</th>\n",
       "      <td>28000</td>\n",
       "      <td>2</td>\n",
       "    </tr>\n",
       "  </tbody>\n",
       "</table>\n",
       "<p>28000 rows × 2 columns</p>\n",
       "</div>"
      ],
      "text/plain": [
       "       ImageId  Label\n",
       "0            1      2\n",
       "1            2      0\n",
       "2            3      9\n",
       "3            4      9\n",
       "4            5      3\n",
       "...        ...    ...\n",
       "27995    27996      9\n",
       "27996    27997      7\n",
       "27997    27998      3\n",
       "27998    27999      9\n",
       "27999    28000      2\n",
       "\n",
       "[28000 rows x 2 columns]"
      ]
     },
     "execution_count": 54,
     "metadata": {},
     "output_type": "execute_result"
    }
   ],
   "source": [
    "pred_df = pd.DataFrame([], columns = [\"ImageId\", \"Label\"])\n",
    "pred_df[\"ImageId\"] = test_data.index + 1\n",
    "pred_df[\"Label\"] = prediction\n",
    "pred_df"
   ]
  },
  {
   "cell_type": "code",
   "execution_count": 55,
   "id": "500b7433",
   "metadata": {},
   "outputs": [],
   "source": [
    "pred_df.to_csv(\"./results/standarization_two_conv_blocks.csv\", index = False)"
   ]
  },
  {
   "cell_type": "code",
   "execution_count": null,
   "id": "b0574a15",
   "metadata": {},
   "outputs": [],
   "source": []
  }
 ],
 "metadata": {
  "kernelspec": {
   "display_name": "tf210-gpu",
   "language": "python",
   "name": "python3"
  },
  "language_info": {
   "codemirror_mode": {
    "name": "ipython",
    "version": 3
   },
   "file_extension": ".py",
   "mimetype": "text/x-python",
   "name": "python",
   "nbconvert_exporter": "python",
   "pygments_lexer": "ipython3",
   "version": "3.8.20"
  }
 },
 "nbformat": 4,
 "nbformat_minor": 5
}
