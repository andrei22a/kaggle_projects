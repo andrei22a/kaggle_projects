{
 "cells": [
  {
   "cell_type": "code",
   "execution_count": 1,
   "id": "0e564db9",
   "metadata": {},
   "outputs": [],
   "source": [
    "import numpy as np\n",
    "import pandas as pd\n",
    "import matplotlib.pyplot as plt\n",
    "import seaborn as sns\n",
    "from scipy.stats import skew\n",
    "from sklearn.ensemble import RandomForestRegressor, GradientBoostingRegressor, AdaBoostRegressor\n",
    "from sklearn.metrics import accuracy_score, f1_score, mean_squared_error, precision_score, recall_score, roc_curve, make_scorer, r2_score\n",
    "from sklearn.model_selection import GridSearchCV, RandomizedSearchCV, train_test_split, cross_val_score\n",
    "from sklearn.neighbors import KNeighborsRegressor\n",
    "from sklearn.tree import DecisionTreeRegressor\n",
    "from sklearn.linear_model import LinearRegression, Ridge, Lasso\n",
    "from sklearn.gaussian_process import GaussianProcessRegressor\n",
    "from sklearn.svm import SVR\n",
    "from sklearn.preprocessing import LabelEncoder, OrdinalEncoder, StandardScaler, OneHotEncoder, RobustScaler\n",
    "from sklearn.pipeline import make_pipeline\n",
    "from lightgbm import LGBMRegressor\n",
    "from xgboost import XGBRegressor"
   ]
  },
  {
   "cell_type": "code",
   "execution_count": 2,
   "id": "97cae4e7",
   "metadata": {},
   "outputs": [],
   "source": [
    "train_data = pd.read_csv(\"./datasets/train.csv\")\n",
    "test_data = pd.read_csv(\"./datasets/test.csv\")"
   ]
  },
  {
   "cell_type": "code",
   "execution_count": 14,
   "id": "f780e618",
   "metadata": {},
   "outputs": [
    {
     "data": {
      "text/plain": [
       "PoolQC          1453\n",
       "MiscFeature     1406\n",
       "Alley           1369\n",
       "Fence           1179\n",
       "MasVnrType       872\n",
       "FireplaceQu      690\n",
       "LotFrontage      259\n",
       "GarageYrBlt       81\n",
       "GarageCond        81\n",
       "GarageType        81\n",
       "GarageFinish      81\n",
       "GarageQual        81\n",
       "BsmtFinType2      38\n",
       "BsmtExposure      38\n",
       "BsmtQual          37\n",
       "BsmtCond          37\n",
       "BsmtFinType1      37\n",
       "MasVnrArea         8\n",
       "Electrical         1\n",
       "dtype: int64"
      ]
     },
     "execution_count": 14,
     "metadata": {},
     "output_type": "execute_result"
    }
   ],
   "source": [
    "na_values = train_data.isnull().sum().sort_values(ascending = False)\n",
    "na_values = na_values[na_values > 0]\n",
    "na_values"
   ]
  },
  {
   "cell_type": "code",
   "execution_count": 17,
   "id": "fe13ee3c",
   "metadata": {},
   "outputs": [
    {
     "data": {
      "text/plain": [
       "PoolQC           object\n",
       "MiscFeature      object\n",
       "Alley            object\n",
       "Fence            object\n",
       "MasVnrType       object\n",
       "FireplaceQu      object\n",
       "LotFrontage     float64\n",
       "GarageYrBlt     float64\n",
       "GarageCond       object\n",
       "GarageType       object\n",
       "GarageFinish     object\n",
       "GarageQual       object\n",
       "BsmtFinType2     object\n",
       "BsmtExposure     object\n",
       "BsmtQual         object\n",
       "BsmtCond         object\n",
       "BsmtFinType1     object\n",
       "MasVnrArea      float64\n",
       "Electrical       object\n",
       "dtype: object"
      ]
     },
     "execution_count": 17,
     "metadata": {},
     "output_type": "execute_result"
    }
   ],
   "source": [
    "train_data[na_values.index.values].dtypes"
   ]
  },
  {
   "cell_type": "code",
   "execution_count": null,
   "id": "eae1cfdf",
   "metadata": {},
   "outputs": [],
   "source": [
    "def preprocessing(data : pd.DataFrame):\n",
    "    df = data.copy()\n",
    "\n",
    "    df = df.drop(columns = [\"GarageCars\", \"GarageYrBlt\", \"1stFlrSF\", \"TotRmsAbvGr\", \"Utilities\"])\n",
    "\n"
   ]
  }
 ],
 "metadata": {
  "kernelspec": {
   "display_name": "base",
   "language": "python",
   "name": "python3"
  },
  "language_info": {
   "codemirror_mode": {
    "name": "ipython",
    "version": 3
   },
   "file_extension": ".py",
   "mimetype": "text/x-python",
   "name": "python",
   "nbconvert_exporter": "python",
   "pygments_lexer": "ipython3",
   "version": "3.12.4"
  }
 },
 "nbformat": 4,
 "nbformat_minor": 5
}
